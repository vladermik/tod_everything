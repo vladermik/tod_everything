{
  "cells": [
    {
      "cell_type": "markdown",
      "metadata": {
        "id": "Xtqm1lZNPw8-"
      },
      "source": [
        "Лабораторная работа №1\n",
        "\n",
        "Ермаков ПИ22-3"
      ]
    },
    {
      "cell_type": "code",
      "execution_count": 1,
      "metadata": {
        "colab": {
          "base_uri": "https://localhost:8080/"
        },
        "id": "0080neAtPmom",
        "outputId": "f0eee99f-db27-4b6c-cd8c-498ebcfc2609"
      },
      "outputs": [
        {
          "name": "stdout",
          "output_type": "stream",
          "text": [
            "[(127244, 60, 16) ( 23891, 25,  7) ( 94746, 10,  6) ( 67660,  5,  6)\n",
            " (157911, 60, 14)]\n"
          ]
        }
      ],
      "source": [
        "## задание 1\n",
        "import numpy as np\n",
        "ing = np.loadtxt('/workspaces/lab_1/minutes_n_ingredients.csv', delimiter = ',', skiprows = 1, \n",
        "                dtype = {'names': ['id', 'minutes', 'n_ingredients'],\n",
        "                         'formats' : ['int32', 'int32', 'int32']})\n",
        "print(ing[:5])"
      ]
    },
    {
      "cell_type": "code",
      "execution_count": 2,
      "metadata": {
        "colab": {
          "base_uri": "https://localhost:8080/"
        },
        "id": "iW92BDDuaf-z",
        "outputId": "49085ee7-043f-40bb-da2d-5d126aad25fe"
      },
      "outputs": [
        {
          "name": "stdout",
          "output_type": "stream",
          "text": [
            "Время: \n",
            "\tМаксимальное: 2147483647 минут\n",
            "\tМинимальное: 0 минут\n",
            "\tСреднее: 21601.0 минут\n",
            "\tМедиана: 40.0\n",
            "Количество ингредиентов: \n",
            "\tМаксимальное: 39\n",
            "\tМинимальное: 1\n",
            "\tСреднее: 9.05528\n",
            "\tМедиана: 9.0\n"
          ]
        }
      ],
      "source": [
        "#задание 2\n",
        "max_minutes = ing['minutes'].max()\n",
        "max_n_ingredients = ing['n_ingredients'].max()\n",
        "min_minutes = ing['minutes'].min()\n",
        "min_n_ingredients = ing['n_ingredients'].min()\n",
        "av_minutes = round(ing['minutes'].sum()/ing.shape[0], 2)\n",
        "av_n_ingredients = ing['n_ingredients'].sum()/ing.shape[0]\n",
        "med_minutes = np.median(ing['minutes'])\n",
        "med_n_ingredients = np.median(ing['n_ingredients'])\n",
        "print(f'Время: \\n\\tМаксимальное: {max_minutes} минут\\n\\tМинимальное: {min_minutes} минут\\n\\tСреднее: {av_minutes} минут\\n\\tМедиана: {med_minutes}')\n",
        "print(f'Количество ингредиентов: \\n\\tМаксимальное: {max_n_ingredients}\\n\\tМинимальное: {min_n_ingredients}\\n\\tСреднее: {av_n_ingredients}\\n\\tМедиана: {med_n_ingredients}')"
      ]
    },
    {
      "cell_type": "code",
      "execution_count": 3,
      "metadata": {
        "colab": {
          "base_uri": "https://localhost:8080/"
        },
        "id": "S40c7sYUeTWF",
        "outputId": "0f1d0dbc-077b-44be-a441-300b2737f927"
      },
      "outputs": [
        {
          "name": "stdout",
          "output_type": "stream",
          "text": [
            "Значение времени ограничено квантилем 0,75 [(127244, 60, 16) ( 23891, 25,  7) ( 94746, 10,  6) ... (498432, 65, 15)\n",
            " (370915,  5,  4) ( 81993, 65, 14)]\n"
          ]
        }
      ],
      "source": [
        "## задание 3\n",
        "q075 = np.quantile(ing['minutes'], 0.75)\n",
        "ing['minutes'] = np.clip(ing['minutes'], 0, q075)\n",
        "print('Значение времени ограничено квантилем 0,75',ing)\n",
        "#здесь и дальше ограничил квантилем значения в основном массиве"
      ]
    },
    {
      "cell_type": "code",
      "execution_count": 4,
      "metadata": {
        "colab": {
          "base_uri": "https://localhost:8080/"
        },
        "id": "Kg6Jc7c6BpsK",
        "outputId": "0430f2af-f16f-492b-de5a-64d15cf22315"
      },
      "outputs": [
        {
          "name": "stdout",
          "output_type": "stream",
          "text": [
            "Количество нулей: 479, все заменены на единицы\n"
          ]
        }
      ],
      "source": [
        "##задание 4\n",
        "num_zero = (ing['minutes'] == 0).sum()\n",
        "ing['minutes'] = np.clip(ing['minutes'], 1, None)\n",
        "print(f'Количество нулей: {num_zero}, все заменены на единицы')"
      ]
    },
    {
      "cell_type": "code",
      "execution_count": 6,
      "metadata": {
        "colab": {
          "base_uri": "https://localhost:8080/"
        },
        "id": "oUbiNZYLDpOz",
        "outputId": "db49011e-6b62-490f-e7ad-7866434190c9"
      },
      "outputs": [
        {
          "name": "stdout",
          "output_type": "stream",
          "text": [
            "Количество уникальных рецептов: 1135\n"
          ]
        }
      ],
      "source": [
        "## задание 5\n",
        "## уникальный рецепт - уникальный набор из времени и кол-ва ингредиентов\n",
        "a = np.stack((ing['minutes'], ing['n_ingredients']), axis=1)\n",
        "uniq = np.unique(a, axis=0)\n",
        "print(f'Количество уникальных рецептов: {uniq.shape[0]}')"
      ]
    },
    {
      "cell_type": "code",
      "execution_count": 7,
      "metadata": {
        "colab": {
          "base_uri": "https://localhost:8080/"
        },
        "id": "O4vZ8U4eMhnt",
        "outputId": "1059814d-12e9-48d7-f96f-ccdc1cad4398"
      },
      "outputs": [
        {
          "name": "stdout",
          "output_type": "stream",
          "text": [
            "Все уникальные значения кол-ва ингредиентов и их количество: \n",
            " {1: 13, 2: 926, 3: 2895, 4: 5515, 5: 7913, 6: 9376, 7: 10628, 8: 10951, 9: 10585, 10: 9591, 11: 8297, 12: 6605, 13: 4997, 14: 3663, 15: 2595, 16: 1767, 17: 1246, 18: 790, 19: 573, 20: 376, 21: 217, 22: 161, 23: 105, 24: 69, 25: 50, 26: 28, 27: 16, 28: 16, 29: 12, 30: 12, 31: 3, 32: 1, 33: 2, 34: 1, 35: 3, 37: 1, 39: 1}\n"
          ]
        }
      ],
      "source": [
        "## задание 6\n",
        "unique, counts = np.unique(ing['n_ingredients'], return_counts=True)\n",
        "print('Все уникальные значения кол-ва ингредиентов и их количество:','\\n', dict(zip(unique, counts)))"
      ]
    },
    {
      "cell_type": "code",
      "execution_count": 8,
      "metadata": {
        "colab": {
          "base_uri": "https://localhost:8080/"
        },
        "id": "2xzj5sbbMzB_",
        "outputId": "70599513-4c87-43c9-a155-8b7d8e3a96aa"
      },
      "outputs": [
        {
          "name": "stdout",
          "output_type": "stream",
          "text": [
            "Рецепты с кол-вом ингредиентов не более 5: \n",
            " [(446597, 15, 5) (204134,  5, 3) ( 25623,  6, 4) ... ( 52088, 60, 5)\n",
            " (128811, 15, 4) (370915,  5, 4)]\n"
          ]
        }
      ],
      "source": [
        "## задание 7\n",
        "cond = np.where(ing['n_ingredients'] <= 5)\n",
        "ing_new = ing[cond]\n",
        "print('Рецепты с кол-вом ингредиентов не более 5:', '\\n', ing_new)"
      ]
    },
    {
      "cell_type": "code",
      "execution_count": 9,
      "metadata": {
        "colab": {
          "base_uri": "https://localhost:8080/"
        },
        "id": "Vms7BOktRUNI",
        "outputId": "47807fd3-f651-4705-af5d-b111d8f83efb"
      },
      "outputs": [
        {
          "name": "stdout",
          "output_type": "stream",
          "text": [
            "Максимальное количество ингредиентов в минуту: 65.0\n"
          ]
        }
      ],
      "source": [
        "## задание 8\n",
        "ing_per_min = ing['minutes']/ing['n_ingredients']\n",
        "print('Максимальное количество ингредиентов в минуту:',ing_per_min.max())"
      ]
    },
    {
      "cell_type": "code",
      "execution_count": 10,
      "metadata": {
        "colab": {
          "base_uri": "https://localhost:8080/"
        },
        "id": "CEizLlfriH18",
        "outputId": "e241ddcb-baf3-4a49-dd73-9b895b67c255"
      },
      "outputs": [
        {
          "name": "stdout",
          "output_type": "stream",
          "text": [
            "Среднее количество ингредиентов в топ-100 по продолжительности рецептах: 13.11\n"
          ]
        }
      ],
      "source": [
        "####задание 9\n",
        "top = np.sort(ing, order = 'minutes')[::-1]\n",
        "top = top['n_ingredients'][:100].sum()/100\n",
        "print('Среднее количество ингредиентов в топ-100 по продолжительности рецептах:', top)"
      ]
    },
    {
      "cell_type": "code",
      "execution_count": 11,
      "metadata": {
        "colab": {
          "base_uri": "https://localhost:8080/"
        },
        "id": "SXZyWWl0jZMs",
        "outputId": "d1227c36-890f-4ebe-d840-c2b1bdb5f48a"
      },
      "outputs": [
        {
          "name": "stdout",
          "output_type": "stream",
          "text": [
            "10 рандомных рецептов \n",
            " [(251309, 65, 21) (164066, 17,  5) (104690, 65,  7) ( 54632, 15, 11)\n",
            " (443511, 40, 10) (421747, 65, 10) ( 43203, 65,  8) (322116, 30, 10)\n",
            " (377809, 60, 17) ( 53435,  5,  8)]\n"
          ]
        }
      ],
      "source": [
        "###задание 10\n",
        "print('10 рандомных рецептов', '\\n', ing[np.random.randint(0, ing.shape[0], size = 10)])"
      ]
    },
    {
      "cell_type": "code",
      "execution_count": 12,
      "metadata": {
        "colab": {
          "base_uri": "https://localhost:8080/"
        },
        "id": "FZLc4-jtwNXN",
        "outputId": "bfbe635d-8fbe-4d06-9fd8-004f4f244fcc"
      },
      "outputs": [
        {
          "name": "stdout",
          "output_type": "stream",
          "text": [
            "59 %\n"
          ]
        }
      ],
      "source": [
        "###задание 11\n",
        "less = np.where(ing['n_ingredients'] < av_n_ingredients)\n",
        "percent = int(round(ing[less].shape[0] / ing.shape[0], 2)*100)\n",
        "print(percent, '%')"
      ]
    },
    {
      "cell_type": "code",
      "execution_count": 14,
      "metadata": {
        "colab": {
          "base_uri": "https://localhost:8080/"
        },
        "id": "iV9FBaBNx7C1",
        "outputId": "0a138e94-2013-49f8-8850-1e780aefd3ea"
      },
      "outputs": [
        {
          "name": "stdout",
          "output_type": "stream",
          "text": [
            "[[127244     60     16      0]\n",
            " [ 23891     25      7      0]\n",
            " [ 94746     10      6      0]\n",
            " ...\n",
            " [498432     65     15      0]\n",
            " [370915      5      4      1]\n",
            " [ 81993     65     14      0]]\n"
          ]
        }
      ],
      "source": [
        "## задание 12\n",
        "ing_new = np.c_[ing['id'], ing['minutes']]\n",
        "z_arr = np.zeros(100000)\n",
        "ing_new = np.c_[ing_new, ing['n_ingredients']]\n",
        "cond1 = np.where(ing_new[:, 1] <= 20)\n",
        "cond2 = np.where(ing_new[:, 2] <= 5)\n",
        "ing_new = np.c_[ing_new, z_arr].astype(int)\n",
        "## сымитировал копию(3-6 строчки) чтобы избежать конфликта типов данных, \n",
        "## дальше определил столбики, подходящие\n",
        "## под 1е, потом под 2е условия и соединил их\n",
        "ing_new1 = ing_new.copy()\n",
        "ing_new2 = ing_new.copy()\n",
        "ing_new1[cond1, 3] = 1\n",
        "ing_new2[cond2, 3] = 1\n",
        "ing_new[:,3] = ing_new1[:, 3]*ing_new2[:, 3]\n",
        "print(ing_new)"
      ]
    },
    {
      "cell_type": "code",
      "execution_count": 15,
      "metadata": {
        "colab": {
          "base_uri": "https://localhost:8080/"
        },
        "id": "naI1BoPPhuzH",
        "outputId": "6ff40dbe-ade1-431d-8489-0c003c15c080"
      },
      "outputs": [
        {
          "name": "stdout",
          "output_type": "stream",
          "text": [
            "9.552 %\n"
          ]
        }
      ],
      "source": [
        "## задание 13\n",
        "print((ing_new[:, 3].sum()/ing.shape[0])*100, '%')"
      ]
    },
    {
      "cell_type": "code",
      "execution_count": 16,
      "metadata": {
        "colab": {
          "base_uri": "https://localhost:8080/"
        },
        "id": "MBh5YrxUiGM3",
        "outputId": "49750ad5-5e72-420f-ddd1-901f58efbf26"
      },
      "outputs": [
        {
          "name": "stdout",
          "output_type": "stream",
          "text": [
            "{1: 12466, 2: 14184, 3: 73350}\n",
            "12466\n",
            "[[[ 94746     10      6]\n",
            "  [ 67660      5      6]\n",
            "  [366174      7      9]\n",
            "  ...\n",
            "  [420725      5      3]\n",
            "  [  4747      1      9]\n",
            "  [370915      5      4]]\n",
            "\n",
            " [[ 33941     18      9]\n",
            "  [446597     15      5]\n",
            "  [ 74205     20      7]\n",
            "  ...\n",
            "  [230115     20      7]\n",
            "  [496131     20      9]\n",
            "  [365818     20      6]]\n",
            "\n",
            " [[127244     60     16]\n",
            "  [ 23891     25      7]\n",
            "  [157911     60     14]\n",
            "  ...\n",
            "  [ 68428     65     10]\n",
            "  [312995     65      7]\n",
            "  [ 93651     65     12]]]\n"
          ]
        }
      ],
      "source": [
        "## задание 14\n",
        "ing_cube = np.c_[ing_new, np.zeros(100000)].astype(int)\n",
        "short = np.where(ing_cube[:, 1] <= 10)\n",
        "long = np.where(ing_cube[:, 1] > 20)\n",
        "ing_cube[short, 4] = 1\n",
        "ing_cube[long, 4] = 3\n",
        "ing_cube[np.where(ing_cube[:, 4] == 0), 4] = 2\n",
        "# short = 1\n",
        "# normal = 2\n",
        "# long = 3\n",
        "unique, counts = np.unique(ing_cube[:, 4], return_counts=True)\n",
        "print(dict(zip(unique, counts)))\n",
        "number = min(counts)\n",
        "print(number)  #12466\n",
        "# значит, будет куб 3*12466*3\n",
        "cube_dim1 = ing_cube[np.where(ing_cube[:, 4] == 1), :3][0]\n",
        "cube_dim2 = ing_cube[np.where(ing_cube[:, 4] == 2), :3][0]\n",
        "cube_dim3 = ing_cube[np.where(ing_cube[:, 4] == 3), :3][0]\n",
        "cube_dim1 = cube_dim1[:12466]\n",
        "cube_dim2 = cube_dim2[:12466]\n",
        "cube_dim3 = cube_dim3[:12466]\n",
        "## разделил массивы по сложности, обрезал по самому короткому\n",
        "cube = np.zeros((3, 12466, 3), dtype='int')\n",
        "cube[0] = cube_dim1\n",
        "cube[1] = cube_dim2\n",
        "cube[2] = cube_dim3\n",
        "print(cube)"
      ]
    }
  ],
  "metadata": {
    "colab": {
      "provenance": []
    },
    "kernelspec": {
      "display_name": "Python 3",
      "language": "python",
      "name": "python3"
    },
    "language_info": {
      "codemirror_mode": {
        "name": "ipython",
        "version": 3
      },
      "file_extension": ".py",
      "mimetype": "text/x-python",
      "name": "python",
      "nbconvert_exporter": "python",
      "pygments_lexer": "ipython3",
      "version": "3.10.4"
    },
    "vscode": {
      "interpreter": {
        "hash": "3ad933181bd8a04b432d3370b9dc3b0662ad032c4dfaa4e4f1596c548f763858"
      }
    }
  },
  "nbformat": 4,
  "nbformat_minor": 0
}
